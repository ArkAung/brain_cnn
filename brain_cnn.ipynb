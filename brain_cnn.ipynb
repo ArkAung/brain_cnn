{
 "cells": [
  {
   "cell_type": "code",
   "execution_count": 1,
   "metadata": {
    "collapsed": true,
    "deletable": true,
    "editable": true
   },
   "outputs": [],
   "source": [
    "import numpy as np\n",
    "import tensorflow as tf"
   ]
  },
  {
   "cell_type": "code",
   "execution_count": 2,
   "metadata": {
    "collapsed": false,
    "deletable": true,
    "editable": true
   },
   "outputs": [],
   "source": [
    "_04847_img = np.load('04847-image.npy')\n",
    "_04799_img = np.load('04799-image.npy')\n",
    "_04820_img = np.load('04820-image.npy')\n",
    "_05675_img = np.load('05675-image.npy')\n",
    "_05680_img = np.load('05680-image.npy')\n",
    "_05710_img = np.load('05710-image.npy')\n",
    "\n",
    "_04847_lbl = np.load('04847-label-onehot.npy')\n",
    "_04799_lbl = np.load('04799-label-onehot.npy')\n",
    "_04820_lbl = np.load('04820-label-onehot.npy')\n",
    "_05675_lbl = np.load('05675-label-onehot.npy')\n",
    "_05680_lbl = np.load('05680-label-onehot.npy')\n",
    "_05710_lbl = np.load('05710-label-onehot.npy')\n",
    "\n",
    "train_img = np.vstack((_04847_img, _04799_img, _04820_img, _05675_img, _05680_img))\n",
    "train_lbl = np.vstack((_04847_lbl, _04799_lbl, _04820_lbl, _05675_lbl, _05680_lbl))\n",
    "\n",
    "val_img = _05710_img\n",
    "val_lbl = _05710_lbl"
   ]
  },
  {
   "cell_type": "code",
   "execution_count": 3,
   "metadata": {
    "collapsed": true,
    "deletable": true,
    "editable": true
   },
   "outputs": [],
   "source": [
    "def next_batch(X, y, size):\n",
    "    perm = np.random.permutation(X.shape[0])\n",
    "    for i in np.arange(0, X.shape[0], size):\n",
    "        yield (X[perm[i:i + size]], y[perm[i:i + size]])\n",
    "\n",
    "\n",
    "def weight_variable(shape, name='W'):\n",
    "    initial = tf.truncated_normal(shape, stddev=0.1)\n",
    "    return tf.Variable(initial, name=name)\n",
    "\n",
    "\n",
    "def bias_variable(shape, name='b'):\n",
    "    initial = tf.constant(0.1, shape=shape)\n",
    "    return tf.Variable(initial, name=name)\n",
    "\n",
    "\n",
    "def conv2d(x, W):\n",
    "    return tf.nn.conv2d(x, W, strides=[1, 1, 1, 1], padding='SAME')\n",
    "\n",
    "\n",
    "def max_pool_2x2(x):\n",
    "    return tf.nn.max_pool(x, ksize=[1, 2, 2, 1],\n",
    "                          strides=[1, 2, 2, 1], padding='SAME')\n",
    "\n",
    "\n",
    "def loss_accuracy(cross_entropy_count, accuracy_count, x, y_, keep_prob, phase_train, X, Y, batch_size):\n",
    "    c, l = 0, 0\n",
    "    for batch_xs, batch_ys in next_batch(X, Y, batch_size):\n",
    "        feed_dict = {x: batch_xs, y_: batch_ys, keep_prob: 1.0, phase_train: False}\n",
    "        l += cross_entropy_count.eval(feed_dict=feed_dict)\n",
    "        c += accuracy_count.eval(feed_dict=feed_dict)\n",
    "    return l / Y.shape[0], c / Y.shape[0]"
   ]
  },
  {
   "cell_type": "code",
   "execution_count": 4,
   "metadata": {
    "collapsed": true
   },
   "outputs": [],
   "source": [
    "def conv_layer(input, channels_in, channels_out, name='conv', patch_x=15, patch_y=15):\n",
    "    with tf.name_scope(name):\n",
    "        # 15x15 patch, 8 channels, 32 output channels\n",
    "        w = weight_variable([patch_x, patch_y, channels_in, channels_out], name='W')\n",
    "        b = bias_variable([channels_out], name='B')\n",
    "\n",
    "        conv = conv2d(input, w)\n",
    "        bn = batch_norm(conv, channels_out, phase_train, name + '_bn')\n",
    "        act = tf.nn.relu(bn)\n",
    "        return max_pool_2x2(act)\n",
    "    \n",
    "def fc_layer(input, channels_in, channels_out, name='fc'):\n",
    "    with tf.name_scope(name):\n",
    "        w = weight_variable([channels_in, channels_out], name='W')\n",
    "        b = bias_variable([channels_out], name='b')\n",
    "        return tf.nn.relu(tf.matmul(input, w) + b)"
   ]
  },
  {
   "cell_type": "code",
   "execution_count": 5,
   "metadata": {
    "collapsed": true,
    "deletable": true,
    "editable": true
   },
   "outputs": [],
   "source": [
    "def batch_norm(x, n_out, phase_train, name='bn'):\n",
    "    \"\"\"\n",
    "    Batch normalization on convolutional maps.\n",
    "    Ref.: http://stackoverflow.com/questions/33949786/how-could-i-use-batch-normalization-in-tensorflow\n",
    "    Args:\n",
    "        x:           Tensor, 4D BHWD input maps\n",
    "        n_out:       integer, depth of input maps\n",
    "        phase_train: boolean tf.Varialbe, true indicates training phase\n",
    "        scope:       string, variable scope\n",
    "    Return:\n",
    "        normed:      batch-normalized maps\n",
    "    \"\"\"\n",
    "    with tf.variable_scope(name):\n",
    "        beta = tf.Variable(tf.constant(0.0, shape=[n_out]), name='beta', trainable=True)\n",
    "        gamma = tf.Variable(tf.constant(1.0, shape=[n_out]), name='gamma', trainable=True)\n",
    "        batch_mean, batch_var = tf.nn.moments(x, [0,1,2], name='moments')\n",
    "        ema = tf.train.ExponentialMovingAverage(decay=0.6)\n",
    "\n",
    "        def mean_var_with_update():\n",
    "            ema_apply_op = ema.apply([batch_mean, batch_var])\n",
    "            with tf.control_dependencies([ema_apply_op]):\n",
    "                return tf.identity(batch_mean), tf.identity(batch_var)\n",
    "\n",
    "        mean, var = tf.cond(phase_train,\n",
    "                            mean_var_with_update,\n",
    "                            lambda: (ema.average(batch_mean), ema.average(batch_var)))\n",
    "        normed = tf.nn.batch_normalization(x, mean, var, beta, gamma, 1e-2)\n",
    "    return normed"
   ]
  },
  {
   "cell_type": "code",
   "execution_count": 6,
   "metadata": {
    "collapsed": false,
    "deletable": true,
    "editable": true
   },
   "outputs": [],
   "source": [
    "x = tf.placeholder(tf.float32, shape=[None, 64, 64, 8], name='x')\n",
    "x_image = tf.reshape(x, [-1, 64, 64, 8], name='x_reshaped')\n",
    "y_ = tf.placeholder(tf.float32, shape=[None, 2], name='labels')\n",
    "phase_train = tf.placeholder(tf.bool, name='phase_train')\n",
    "keep_prob = tf.placeholder(tf.float32, name='keep_prob_fc1')\n",
    "\n",
    "conv1 = conv_layer(x_image, 8, 32, 'conv1', 15, 15) # 15x15 patch, 8 channels, 32 output channels\n",
    "conv2 = conv_layer(conv1, 32, 64, 'conv2', 15, 15) # 15x15 patch, 32 channels, 64 output channels\n",
    "conv2_flat = tf.reshape(conv2, [-1, 16 * 16 * 64]) # flatten conv2\n",
    "\n",
    "fc1 = fc_layer(conv2_flat, 16 * 16 * 64, 1024, 'fc1') # fc_layer fc1\n",
    "fc2 = fc_layer(fc1, 1024, 512, name='fc2') # fc_layer fc2\n",
    "\n",
    "# fc1_drop = tf.nn.dropout(fc1, keep_prob) # dropout on fc1\n",
    "\n",
    "with tf.name_scope('fc3'):\n",
    "    W_fc3 = weight_variable([512, 2])\n",
    "    b_fc3 = bias_variable([2])\n",
    "    y_conv = tf.matmul(fc2, W_fc3) + b_fc3"
   ]
  },
  {
   "cell_type": "code",
   "execution_count": 7,
   "metadata": {
    "collapsed": false,
    "deletable": true,
    "editable": true
   },
   "outputs": [],
   "source": [
    "max_epochs = 20\n",
    "max_steps = 1000\n",
    "learning_rate = 1e-2\n",
    "step, train_acc_arr, train_loss_arr, val_acc_arr, val_loss_arr = 0, [], [], [], []\n",
    "with tf.name_scope('xent'):\n",
    "    cross_entropy = tf.reduce_mean(tf.nn.softmax_cross_entropy_with_logits(labels=y_, logits=y_conv))\n",
    "    cross_entropy_count = tf.reduce_sum(tf.nn.softmax_cross_entropy_with_logits(labels=y_, logits=y_conv))\n",
    "\n",
    "with tf.name_scope('train'):\n",
    "    train_step = tf.train.AdamOptimizer(learning_rate).minimize(cross_entropy)\n",
    "\n",
    "with tf.name_scope('accuracy'):\n",
    "    correct_prediction = tf.equal(tf.argmax(y_conv, 1), tf.argmax(y_, 1))\n",
    "    accuracy = tf.reduce_mean(tf.cast(correct_prediction, tf.float32))\n",
    "    accuracy_count = tf.reduce_sum(tf.cast(correct_prediction, tf.float32))"
   ]
  },
  {
   "cell_type": "code",
   "execution_count": 8,
   "metadata": {
    "collapsed": false,
    "deletable": true,
    "editable": true
   },
   "outputs": [
    {
     "name": "stdout",
     "output_type": "stream",
     "text": [
      "step 100, train accuracy 0.2000, train loss 1.95381, val accuracy 0.496875, val loss 0.839133\n",
      "step 200, train accuracy 0.5000, train loss 1.21065, val accuracy 0.5125, val loss 1.14364\n",
      "step 300, train accuracy 0.5000, train loss 0.69910, val accuracy 0.498437, val loss 0.696918\n",
      "step 400, train accuracy 0.8000, train loss 0.64269, val accuracy 0.503125, val loss 0.729011\n",
      "step 500, train accuracy 0.9000, train loss 0.68013, val accuracy 0.5125, val loss 0.696295\n",
      "step 600, train accuracy 0.5000, train loss 0.70038, val accuracy 0.496875, val loss 0.702727\n",
      "step 700, train accuracy 0.4000, train loss 0.70338, val accuracy 0.5, val loss 0.701474\n",
      "step 800, train accuracy 0.8000, train loss 0.66438, val accuracy 0.5, val loss 0.696141\n",
      "step 900, train accuracy 0.6000, train loss 0.69806, val accuracy 0.504687, val loss 0.69586\n",
      "step 1000, train accuracy 0.7000, train loss 0.67964, val accuracy 0.489063, val loss 0.696981\n",
      "step 1100, train accuracy 0.9000, train loss 0.63576, val accuracy 0.5, val loss 0.695229\n",
      "step 1200, train accuracy 0.4000, train loss 0.70203, val accuracy 0.5, val loss 0.693826\n",
      "step 1300, train accuracy 0.8000, train loss 0.68861, val accuracy 0.507812, val loss 0.693069\n",
      "step 1400, train accuracy 0.5000, train loss 0.69333, val accuracy 0.509375, val loss 0.69297\n",
      "step 1500, train accuracy 0.3000, train loss 0.68928, val accuracy 0.5, val loss 0.693193\n",
      "step 1600, train accuracy 0.4000, train loss 0.70185, val accuracy 0.5, val loss 0.693886\n",
      "step 1700, train accuracy 0.4000, train loss 0.70929, val accuracy 0.5, val loss 0.695726\n",
      "step 1800, train accuracy 0.8000, train loss 0.67589, val accuracy 0.5125, val loss 0.693501\n",
      "step 1900, train accuracy 0.5000, train loss 0.69383, val accuracy 0.50625, val loss 0.693172\n",
      "step 2000, train accuracy 0.3000, train loss 0.63926, val accuracy 0.51875, val loss 0.699446\n",
      "step 2100, train accuracy 0.3000, train loss 0.88493, val accuracy 0.507812, val loss 0.752199\n",
      "step 2200, train accuracy 0.7000, train loss 0.68432, val accuracy 0.5, val loss 0.697404\n",
      "step 2300, train accuracy 0.7000, train loss 0.68834, val accuracy 0.5, val loss 0.693239\n",
      "step 2400, train accuracy 0.5000, train loss 0.69337, val accuracy 0.5, val loss 0.693398\n",
      "step 2500, train accuracy 0.6000, train loss 0.68721, val accuracy 0.5, val loss 0.692884\n",
      "step 2600, train accuracy 0.7000, train loss 0.68317, val accuracy 0.5, val loss 0.6935\n",
      "step 2700, train accuracy 0.8000, train loss 0.66675, val accuracy 0.5, val loss 0.694208\n",
      "step 2800, train accuracy 0.5000, train loss 0.69362, val accuracy 0.5, val loss 0.693453\n",
      "step 2900, train accuracy 0.5000, train loss 0.69431, val accuracy 0.5, val loss 0.694298\n",
      "step 3000, train accuracy 0.9000, train loss 0.68666, val accuracy 0.5, val loss 0.693173\n",
      "step 3100, train accuracy 0.7000, train loss 0.69301, val accuracy 0.5, val loss 0.69314\n",
      "step 3200, train accuracy 0.9000, train loss 0.68102, val accuracy 0.5, val loss 0.69326\n",
      "step 3300, train accuracy 0.4000, train loss 0.69757, val accuracy 0.5, val loss 0.693366\n",
      "step 3400, train accuracy 0.4000, train loss 0.69559, val accuracy 0.5, val loss 0.69321\n",
      "step 3500, train accuracy 0.5000, train loss 0.69358, val accuracy 0.5, val loss 0.693573\n",
      "step 3600, train accuracy 0.4000, train loss 0.70163, val accuracy 0.5, val loss 0.693892\n",
      "step 3700, train accuracy 0.5000, train loss 0.69381, val accuracy 0.5, val loss 0.693811\n",
      "step 3800, train accuracy 0.5000, train loss 0.69395, val accuracy 0.5, val loss 0.693941\n",
      "step 3900, train accuracy 0.4000, train loss 0.69364, val accuracy 0.5, val loss 0.693148\n",
      "step 4000, train accuracy 0.6000, train loss 0.69097, val accuracy 0.5, val loss 0.693203\n",
      "step 4100, train accuracy 0.7000, train loss 0.68714, val accuracy 0.5, val loss 0.693263\n",
      "step 4200, train accuracy 0.1000, train loss 0.71648, val accuracy 0.5, val loss 0.693549\n",
      "step 4300, train accuracy 0.5000, train loss 0.69315, val accuracy 0.503125, val loss 0.69314\n",
      "step 4400, train accuracy 0.4000, train loss 0.70000, val accuracy 0.5, val loss 0.693646\n",
      "step 4500, train accuracy 0.3000, train loss 0.71000, val accuracy 0.5, val loss 0.693943\n",
      "step 4600, train accuracy 0.3000, train loss 0.70497, val accuracy 0.5, val loss 0.693552\n",
      "step 4700, train accuracy 0.8000, train loss 0.66918, val accuracy 0.5, val loss 0.693993\n",
      "step 4800, train accuracy 0.8000, train loss 0.69252, val accuracy 0.5, val loss 0.693141\n",
      "step 4900, train accuracy 0.9000, train loss 0.68258, val accuracy 0.5, val loss 0.693226\n",
      "step 5000, train accuracy 0.5000, train loss 0.69465, val accuracy 0.5, val loss 0.694644\n",
      "step 5100, train accuracy 0.7000, train loss 0.69177, val accuracy 0.5, val loss 0.693149\n",
      "step 5200, train accuracy 0.3000, train loss 0.70236, val accuracy 0.5, val loss 0.693393\n",
      "step 5300, train accuracy 0.3000, train loss 0.69634, val accuracy 0.5, val loss 0.693181\n",
      "step 5400, train accuracy 0.5000, train loss 0.69463, val accuracy 0.5, val loss 0.694621\n",
      "step 5500, train accuracy 0.5000, train loss 0.69361, val accuracy 0.5, val loss 0.693604\n",
      "step 5600, train accuracy 0.6000, train loss 0.69254, val accuracy 0.5, val loss 0.693148\n",
      "step 5700, train accuracy 0.5000, train loss 0.69315, val accuracy 0.501563, val loss 0.693142\n",
      "step 5800, train accuracy 0.4000, train loss 0.72169, val accuracy 0.5, val loss 0.699364\n",
      "step 5900, train accuracy 0.5000, train loss 0.69322, val accuracy 0.5, val loss 0.693217\n",
      "step 6000, train accuracy 0.5000, train loss 0.69442, val accuracy 0.5, val loss 0.694433\n",
      "step 6100, train accuracy 0.5000, train loss 0.69335, val accuracy 0.5, val loss 0.69334\n",
      "step 6200, train accuracy 0.4000, train loss 0.70502, val accuracy 0.5, val loss 0.69452\n",
      "step 6300, train accuracy 0.7000, train loss 0.67163, val accuracy 0.5, val loss 0.694819\n",
      "step 6400, train accuracy 0.6000, train loss 0.69143, val accuracy 0.5, val loss 0.69318\n"
     ]
    }
   ],
   "source": [
    "sess = tf.InteractiveSession()\n",
    "writer = tf.summary.FileWriter('/tmp/brain/2')\n",
    "writer.add_graph(sess.graph)\n",
    "\n",
    "sess.run(tf.global_variables_initializer())\n",
    "for i in range(max_epochs):\n",
    "    for batch_xs, batch_ys in next_batch(train_img, train_lbl, 10):\n",
    "        train_step.run(feed_dict={x: batch_xs, y_: batch_ys, keep_prob: 0.5, phase_train: True})\n",
    "        step += 1\n",
    "    \n",
    "        if step % 100 == 0:\n",
    "            feed_dict = {x: batch_xs, y_: batch_ys, keep_prob: 1.0, phase_train: False}\n",
    "            train_accuracy = accuracy.eval(feed_dict=feed_dict)\n",
    "            train_loss = cross_entropy.eval(feed_dict=feed_dict)\n",
    "            val_loss, val_accuracy = loss_accuracy(cross_entropy_count, accuracy_count, x, y_, keep_prob, phase_train,\n",
    "                                                   val_img, val_lbl, 100)\n",
    "            train_acc_arr.append(train_accuracy), train_loss_arr.append(train_loss)\n",
    "            #val_acc_arr.append(val_accuracy), val_loss_arr.append(val_loss)\n",
    "\n",
    "            print \"step %d, train accuracy %.4f, train loss %.5f, val accuracy %g, val loss %g\" % (\n",
    "                step, train_accuracy, train_loss, val_accuracy, val_loss)"
   ]
  },
  {
   "cell_type": "code",
   "execution_count": 9,
   "metadata": {
    "collapsed": false,
    "deletable": true,
    "editable": true
   },
   "outputs": [
    {
     "name": "stdout",
     "output_type": "stream",
     "text": [
      "Val Accuracy: 50, Val Loss: 0.69318\n"
     ]
    }
   ],
   "source": [
    "test_loss, test_accuracy = loss_accuracy(cross_entropy_count, accuracy_count, x, y_, keep_prob, phase_train,\n",
    "                                         val_img, val_lbl, 100)\n",
    "print 'Val Accuracy: %g, Val Loss: %g' % (test_accuracy * 100, test_loss)"
   ]
  },
  {
   "cell_type": "code",
   "execution_count": null,
   "metadata": {
    "collapsed": true
   },
   "outputs": [],
   "source": []
  }
 ],
 "metadata": {
  "kernelspec": {
   "display_name": "Python 2",
   "language": "python",
   "name": "python2"
  },
  "language_info": {
   "codemirror_mode": {
    "name": "ipython",
    "version": 2
   },
   "file_extension": ".py",
   "mimetype": "text/x-python",
   "name": "python",
   "nbconvert_exporter": "python",
   "pygments_lexer": "ipython2",
   "version": "2.7.13"
  }
 },
 "nbformat": 4,
 "nbformat_minor": 2
}
