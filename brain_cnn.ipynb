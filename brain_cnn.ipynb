{
 "cells": [
  {
   "cell_type": "code",
   "execution_count": 1,
   "metadata": {
    "collapsed": false,
    "deletable": true,
    "editable": true
   },
   "outputs": [],
   "source": [
    "import numpy as np\n",
    "import tensorflow as tf\n",
    "from core import *"
   ]
  },
  {
   "cell_type": "code",
   "execution_count": 2,
   "metadata": {
    "collapsed": true
   },
   "outputs": [],
   "source": [
    "IMG_DIM = 64\n",
    "STRIP_WIDTH = 512\n",
    "STRIP_HEIGHT = 512\n",
    "SLICE = 1\n",
    "SNAPS = 8 ##Number of snaps over 4 seconds\n",
    "CHANNELS = 1\n",
    "CLASSES = 2\n",
    "# CHANNELS = 8\n",
    "conv1_filter = 4\n",
    "conv2_filter = 4\n",
    "conv3_filter = 8\n",
    "conv4_filter = 8\n",
    "conv5_filter = 16\n",
    "conv6_filter = 16"
   ]
  },
  {
   "cell_type": "code",
   "execution_count": 3,
   "metadata": {
    "collapsed": false,
    "deletable": true,
    "editable": true
   },
   "outputs": [],
   "source": [
    "experiment = '8snap'\n",
    "path = './datasets/' + experiment + '/'\n",
    "\n",
    "_04847_img = np.load(path + '4847_' + experiment + '-image.npy')\n",
    "_04799_img = np.load(path + '4799_' + experiment + '-image.npy')\n",
    "_04820_img = np.load(path + '4820_' + experiment + '-image.npy')\n",
    "_05675_img = np.load(path + '5675_' + experiment + '-image.npy')\n",
    "_05680_img = np.load(path + '5680_' + experiment + '-image.npy')\n",
    "_05710_img = np.load(path + '5710_' + experiment + '-image.npy')\n",
    "\n",
    "_04847_lbl = np.load(path + '4847_' + experiment + '-label-onehot.npy')\n",
    "_04799_lbl = np.load(path + '4799_' + experiment + '-label-onehot.npy')\n",
    "_04820_lbl = np.load(path + '4820_' + experiment + '-label-onehot.npy')\n",
    "_05675_lbl = np.load(path + '5675_' + experiment + '-label-onehot.npy')\n",
    "_05680_lbl = np.load(path + '5680_' + experiment + '-label-onehot.npy')\n",
    "_05710_lbl = np.load(path + '5710_' + experiment + '-label-onehot.npy')"
   ]
  },
  {
   "cell_type": "code",
   "execution_count": 4,
   "metadata": {
    "collapsed": true
   },
   "outputs": [],
   "source": [
    "train_img = np.vstack((_04847_img[5:,], _04799_img[5:,], _04820_img[5:,], _05675_img[5:,], _05680_img[5:,]))\n",
    "train_lbl = np.vstack((_04847_lbl[5:,], _04799_lbl[5:,], _04820_lbl[5:,], _05675_lbl[5:,], _05680_lbl[5:,]))\n",
    "val_img = np.vstack((_04847_img[:5,], _04799_img[:5,], _04820_img[:5,], _05675_img[:5,], _05680_img[:5,]))\n",
    "val_lbl = np.vstack((_04847_lbl[:5,], _04799_lbl[:5,], _04820_lbl[:5,], _05675_lbl[:5,], _05680_lbl[:5,]))\n",
    "#val_img = _05710_img\n",
    "#val_lbl = _05710_lbl"
   ]
  },
  {
   "cell_type": "code",
   "execution_count": 5,
   "metadata": {
    "collapsed": false
   },
   "outputs": [
    {
     "name": "stdout",
     "output_type": "stream",
     "text": [
      "train_img (375, 512, 512)\n",
      "train_lbl (375, 2)\n",
      "val_img (25, 512, 512)\n",
      "val_lbl (25, 2)\n"
     ]
    }
   ],
   "source": [
    "print 'train_img', train_img.shape\n",
    "print 'train_lbl', train_lbl.shape\n",
    "print 'val_img', val_img.shape\n",
    "print 'val_lbl', val_lbl.shape"
   ]
  },
  {
   "cell_type": "code",
   "execution_count": 6,
   "metadata": {
    "collapsed": false,
    "deletable": true,
    "editable": true
   },
   "outputs": [],
   "source": [
    "x = tf.placeholder(tf.float32, shape=[None, STRIP_HEIGHT, STRIP_WIDTH], name='x')\n",
    "x_image = tf.reshape(x, [-1, STRIP_HEIGHT, STRIP_WIDTH, CHANNELS], name='x_reshaped')\n",
    "y_ = tf.placeholder(tf.float32, shape=[None, CLASSES], name='labels')\n",
    "phase_train = tf.placeholder(tf.bool, name='phase_train')\n",
    "keep_prob = tf.placeholder(tf.float32, name='keep_prob_fc1')\n",
    "\n",
    "\n",
    "# 3 convolutional layers\n",
    "conv1 = conv_layer(x_image, CHANNELS, conv1_filter, phase_train, 'conv1', 3, 3)\n",
    "conv2 = conv_layer(conv1, conv1_filter, conv2_filter, phase_train, 'conv2', 5, 5)\n",
    "conv3 = conv_layer(conv2, conv2_filter, conv3_filter, phase_train, 'conv3', 7, 7)\n",
    "\n",
    "# maxpool\n",
    "max_pool_1 = max_pool_layer(conv3, name='max_pool_1')\n",
    "\n",
    "# 2 convolutional layers\n",
    "conv4 = conv_layer(max_pool_1, conv3_filter, conv4_filter, phase_train, 'conv4', 10, 10)\n",
    "conv5 = conv_layer(conv4, conv4_filter, conv5_filter, phase_train, 'conv5', 12, 12)\n",
    "\n",
    "# maxpool\n",
    "max_pool_2 = max_pool_layer(conv5, name='max_pool_2')\n",
    "\n",
    "conv6 = conv_layer(max_pool_2, conv5_filter, conv6_filter, phase_train, 'conv6', 12, 12)\n",
    "max_pool_3 = max_pool_layer(conv6, name='max_pool_3')\n",
    "\n",
    "max_pool_3_flat = tf.reshape(max_pool_3, [-1, 64 * 64 * conv6_filter]) # flatten \n",
    "\n",
    "fc1 = fc_layer(max_pool_3_flat, 64 * 64 * conv6_filter, 1024, phase_train, 'fc1') # fc_layer fc1\n",
    "fc1_drop = tf.nn.dropout(tf.nn.relu(fc1), keep_prob) # dropout on fc1\n",
    "fc2 = fc_layer(tf.nn.relu(fc1_drop), 1024, 512, phase_train, name='fc2') # fc_layer fc2\n",
    "fc3 = fc_layer(tf.nn.relu(fc2), 512, 256, phase_train, name='fc3') # fc_layer fc3\n",
    "fc4 = fc_layer(tf.nn.relu(fc3), 256, 128, phase_train, name='fc4') # fc_layer fc4\n",
    "fc5 = fc_layer(tf.nn.relu(fc4), 128, 64, phase_train, name='fc5') # fc_layer fc5\n",
    "y_conv = fc_layer(fc5, 64, 2, phase_train, 'y_conv')    "
   ]
  },
  {
   "cell_type": "code",
   "execution_count": null,
   "metadata": {
    "collapsed": false,
    "deletable": true,
    "editable": true
   },
   "outputs": [
    {
     "data": {
      "text/plain": [
       "<tf.Tensor 'accuracy_1:0' shape=() dtype=string>"
      ]
     },
     "execution_count": 7,
     "metadata": {},
     "output_type": "execute_result"
    }
   ],
   "source": [
    "max_epochs = 200\n",
    "max_steps = 1000\n",
    "learning_rate = 1e-5\n",
    "step, train_acc_arr, train_loss_arr, val_acc_arr, val_loss_arr = 0, [], [], [], []\n",
    "with tf.name_scope('xent'):\n",
    "    cross_entropy = tf.reduce_mean(tf.nn.softmax_cross_entropy_with_logits(labels=y_, logits=y_conv))\n",
    "    cross_entropy_count = tf.reduce_sum(tf.nn.softmax_cross_entropy_with_logits(labels=y_, logits=y_conv))\n",
    "\n",
    "with tf.name_scope('train'):\n",
    "    train_step = tf.train.AdamOptimizer(learning_rate).minimize(cross_entropy)\n",
    "\n",
    "with tf.name_scope('accuracy'):\n",
    "    correct_prediction = tf.equal(tf.argmax(y_conv, 1), tf.argmax(y_, 1))\n",
    "    accuracy = tf.reduce_mean(tf.cast(correct_prediction, tf.float32))\n",
    "    accuracy_count = tf.reduce_sum(tf.cast(correct_prediction, tf.float32))\n",
    "\n",
    "tf.summary.scalar('cross_entropy', cross_entropy)\n",
    "tf.summary.scalar('accuracy', accuracy)\n",
    "# tf.summary.image('input', x_image, 3)"
   ]
  },
  {
   "cell_type": "code",
   "execution_count": null,
   "metadata": {
    "collapsed": false,
    "deletable": true,
    "editable": true
   },
   "outputs": [
    {
     "name": "stdout",
     "output_type": "stream",
     "text": [
      "step 100, train accuracy 0.6720, train loss 0.91826, val accuracy 0.64, val loss 0.891769\n",
      "step 200, train accuracy 0.6907, train loss 1.24589, val accuracy 0.76, val loss 0.704378\n",
      "step 300, train accuracy 0.8240, train loss 0.39888, val accuracy 0.6, val loss 0.687695\n",
      "step 400, train accuracy 0.7760, train loss 0.57882, val accuracy 0.52, val loss 1.5523\n",
      "step 500, train accuracy 0.7227, train loss 0.80377, val accuracy 0.6, val loss 1.2287\n",
      "step 600, train accuracy 0.6693, train loss 1.34933, val accuracy 0.56, val loss 1.37713\n",
      "step 700, train accuracy 0.7787, train loss 0.50286, val accuracy 0.52, val loss 0.777216\n",
      "step 800, train accuracy 0.9813, train loss 0.08980, val accuracy 0.64, val loss 0.916351\n",
      "step 900, train accuracy 0.8187, train loss 0.37680, val accuracy 0.52, val loss 1.76883\n",
      "step 1000, train accuracy 0.9440, train loss 0.16676, val accuracy 0.68, val loss 0.930711\n",
      "step 1100, train accuracy 0.9973, train loss 0.03061, val accuracy 0.72, val loss 0.764767\n"
     ]
    }
   ],
   "source": [
    "sess = tf.InteractiveSession()\n",
    "merged_summary = tf.summary.merge_all()\n",
    "writer = tf.summary.FileWriter('/tmp/brain/4')\n",
    "writer.add_graph(sess.graph)\n",
    "\n",
    "sess.run(tf.global_variables_initializer())\n",
    "\n",
    "for i in range(max_epochs):\n",
    "    for batch_xs, batch_ys in next_batch(train_img, train_lbl, 5):\n",
    "        feed_dict={x: batch_xs, y_: batch_ys, keep_prob: 1.0, phase_train: True}\n",
    "#         if step % 5 == 0:\n",
    "#             s = sess.run(merged_summary, feed_dict=feed_dict)\n",
    "#             writer.add_summary(s, step)\n",
    "\n",
    "        train_step.run(feed_dict=feed_dict)\n",
    "        step += 1\n",
    "\n",
    "        if step % 100 == 0:\n",
    "            train_loss, train_accuracy = loss_accuracy(cross_entropy_count, accuracy_count, x, y_, keep_prob, phase_train, train_img, train_lbl, 5)\n",
    "            val_loss, val_accuracy = loss_accuracy(cross_entropy_count, accuracy_count, x, y_, keep_prob, phase_train, val_img, val_lbl, 5)\n",
    "            \n",
    "            train_acc_arr.append(train_accuracy), train_loss_arr.append(train_loss)\n",
    "            val_acc_arr.append(val_accuracy), val_loss_arr.append(val_loss)\n",
    "\n",
    "            print \"step %d, train accuracy %.4f, train loss %.5f, val accuracy %g, val loss %g\" % (\n",
    "                step, train_accuracy, train_loss, val_accuracy, val_loss)"
   ]
  },
  {
   "cell_type": "code",
   "execution_count": null,
   "metadata": {
    "collapsed": false,
    "deletable": true,
    "editable": true
   },
   "outputs": [],
   "source": [
    "test_loss, test_accuracy = loss_accuracy(cross_entropy_count, accuracy_count, x, y_, keep_prob, phase_train,\n",
    "                                         val_img, val_lbl, 100)\n",
    "print 'Val Accuracy: %g, Val Loss: %g' % (test_accuracy * 100, test_loss)"
   ]
  },
  {
   "cell_type": "code",
   "execution_count": null,
   "metadata": {
    "collapsed": false,
    "deletable": true,
    "editable": true
   },
   "outputs": [],
   "source": [
    "from tensorflow.python.client import device_lib\n",
    "def get_available_devices():\n",
    "    local_device_protos = device_lib.list_local_devices()\n",
    "    return [x.name for x in local_device_protos]\n",
    "get_available_devices()"
   ]
  },
  {
   "cell_type": "code",
   "execution_count": null,
   "metadata": {
    "collapsed": false,
    "deletable": true,
    "editable": true
   },
   "outputs": [],
   "source": [
    "val_img.shape"
   ]
  },
  {
   "cell_type": "code",
   "execution_count": null,
   "metadata": {
    "collapsed": false,
    "deletable": true,
    "editable": true
   },
   "outputs": [],
   "source": [
    "val_img[1,:,:,1].shape"
   ]
  },
  {
   "cell_type": "code",
   "execution_count": null,
   "metadata": {
    "collapsed": true,
    "deletable": true,
    "editable": true
   },
   "outputs": [],
   "source": [
    "%matplotlib inline\n",
    "import matplotlib.pyplot as plt"
   ]
  },
  {
   "cell_type": "code",
   "execution_count": null,
   "metadata": {
    "collapsed": false,
    "deletable": true,
    "editable": true
   },
   "outputs": [],
   "source": [
    "for i in range(8):\n",
    "    plt.show(plt.imshow(val_img[1,:,:,i]))"
   ]
  },
  {
   "cell_type": "code",
   "execution_count": null,
   "metadata": {
    "collapsed": false,
    "deletable": true,
    "editable": true
   },
   "outputs": [],
   "source": [
    "plt.show(plt.imshow(np.concatenate(val_img[1], axis=1)))"
   ]
  },
  {
   "cell_type": "code",
   "execution_count": null,
   "metadata": {
    "collapsed": false,
    "deletable": true,
    "editable": true
   },
   "outputs": [],
   "source": [
    "plt.show(plt.imshow(np.concatenate((val_img[1,:,:,0], val_img[1,:,:,1], val_img[1,:,:,2], val_img[1,:,:,3], val_img[1,:,:,4], val_img[1,:,:,5], val_img[1,:,:,6], val_img[1,:,:,7]), axis=1)))"
   ]
  },
  {
   "cell_type": "code",
   "execution_count": null,
   "metadata": {
    "collapsed": false,
    "deletable": true,
    "editable": true
   },
   "outputs": [],
   "source": [
    "plt.show(plt.imshow(np.concatenate(val_img[1,:,:,[0,1,2,3,4,5,6,7]], axis=1)))"
   ]
  },
  {
   "cell_type": "code",
   "execution_count": null,
   "metadata": {
    "collapsed": false,
    "deletable": true,
    "editable": true
   },
   "outputs": [],
   "source": [
    "val_img[1].T.T.T.shape"
   ]
  },
  {
   "cell_type": "code",
   "execution_count": null,
   "metadata": {
    "collapsed": true,
    "deletable": true,
    "editable": true
   },
   "outputs": [],
   "source": []
  }
 ],
 "metadata": {
  "kernelspec": {
   "display_name": "Python 2",
   "language": "python",
   "name": "python2"
  },
  "language_info": {
   "codemirror_mode": {
    "name": "ipython",
    "version": 2
   },
   "file_extension": ".py",
   "mimetype": "text/x-python",
   "name": "python",
   "nbconvert_exporter": "python",
   "pygments_lexer": "ipython2",
   "version": "2.7.13"
  }
 },
 "nbformat": 4,
 "nbformat_minor": 2
}
