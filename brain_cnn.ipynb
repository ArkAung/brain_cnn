{
 "cells": [
  {
   "cell_type": "code",
   "execution_count": 1,
   "metadata": {
    "collapsed": true,
    "deletable": true,
    "editable": true
   },
   "outputs": [],
   "source": [
    "import numpy as np\n",
    "import tensorflow as tf"
   ]
  },
  {
   "cell_type": "code",
   "execution_count": 2,
   "metadata": {
    "collapsed": false,
    "deletable": true,
    "editable": true
   },
   "outputs": [
    {
     "name": "stdout",
     "output_type": "stream",
     "text": [
      "train_img (775, 64, 64, 8)\n",
      "train_lbl (775, 2)\n",
      "val_img (25, 64, 64, 8)\n",
      "val_lbl (25, 2)\n"
     ]
    }
   ],
   "source": [
    "experiment = '_2snap'\n",
    "\n",
    "_04847_img = np.load('4847' + experiment + '-image.npy')\n",
    "_04799_img = np.load('4799' + experiment + '-image.npy')\n",
    "_04820_img = np.load('4820' + experiment + '-image.npy')\n",
    "_05675_img = np.load('5675' + experiment + '-image.npy')\n",
    "_05680_img = np.load('5680' + experiment + '-image.npy')\n",
    "_05710_img = np.load('5710' + experiment + '-image.npy')\n",
    "\n",
    "_04847_lbl = np.load('4847' + experiment + '-label-onehot.npy')\n",
    "_04799_lbl = np.load('4799' + experiment + '-label-onehot.npy')\n",
    "_04820_lbl = np.load('4820' + experiment + '-label-onehot.npy')\n",
    "_05675_lbl = np.load('5675' + experiment + '-label-onehot.npy')\n",
    "_05680_lbl = np.load('5680' + experiment + '-label-onehot.npy')\n",
    "_05710_lbl = np.load('5710' + experiment + '-label-onehot.npy')\n",
    "\n",
    "train_img = np.vstack((_04847_img[5:,], _04799_img[5:,], _04820_img[5:,], _05675_img[5:,], _05680_img[5:,]))\n",
    "train_lbl = np.vstack((_04847_lbl[5:,], _04799_lbl[5:,], _04820_lbl[5:,], _05675_lbl[5:,], _05680_lbl[5:,]))\n",
    "\n",
    "#val_img = _05710_img\n",
    "#val_lbl = _05710_lbl\n",
    "\n",
    "val_img = np.vstack((_04847_img[:5,], _04799_img[:5,], _04820_img[:5,], _05675_img[:5,], _05680_img[:5,]))\n",
    "val_lbl = np.vstack((_04847_lbl[:5,], _04799_lbl[:5,], _04820_lbl[:5,], _05675_lbl[:5,], _05680_lbl[:5,]))\n",
    "\n",
    "print 'train_img', train_img.shape\n",
    "print 'train_lbl', train_lbl.shape\n",
    "print 'val_img', val_img.shape\n",
    "print 'val_lbl', val_lbl.shape"
   ]
  },
  {
   "cell_type": "code",
   "execution_count": 3,
   "metadata": {
    "collapsed": true,
    "deletable": true,
    "editable": true
   },
   "outputs": [],
   "source": [
    "def next_batch(X, y, size):\n",
    "    perm = np.random.permutation(X.shape[0])\n",
    "    for i in np.arange(0, X.shape[0], size):\n",
    "        yield (X[perm[i:i + size]], y[perm[i:i + size]])\n",
    "\n",
    "\n",
    "def weight_variable(shape, name='W'):\n",
    "    initial = tf.truncated_normal(shape, stddev=0.1)\n",
    "    return tf.Variable(initial, name=name)\n",
    "\n",
    "\n",
    "def bias_variable(shape, name='b'):\n",
    "    initial = tf.constant(0.1, shape=shape)\n",
    "    return tf.Variable(initial, name=name)\n",
    "\n",
    "\n",
    "def loss_accuracy(cross_entropy_count, accuracy_count, x, y_, keep_prob, phase_train, X, Y, batch_size):\n",
    "    c, l = 0, 0\n",
    "    for batch_xs, batch_ys in next_batch(X, Y, batch_size):\n",
    "        feed_dict = {x: batch_xs, y_: batch_ys, keep_prob: 1.0, phase_train: False}\n",
    "        l += cross_entropy_count.eval(feed_dict=feed_dict)\n",
    "        c += accuracy_count.eval(feed_dict=feed_dict)\n",
    "    return float(l) / float(Y.shape[0]), float(c) / float(Y.shape[0])"
   ]
  },
  {
   "cell_type": "code",
   "execution_count": 4,
   "metadata": {
    "collapsed": true,
    "deletable": true,
    "editable": true
   },
   "outputs": [],
   "source": [
    "def conv_layer(input, channels_in, channels_out, name='conv', patch_x=15, patch_y=15):\n",
    "    with tf.name_scope(name):\n",
    "        # 15x15 patch, 8 channels, 32 output channels\n",
    "        w = weight_variable([patch_x, patch_y, channels_in, channels_out], name='W')\n",
    "        b = bias_variable([channels_out], name='B')\n",
    "        conv = tf.nn.conv2d(input, w, strides=[1, 1, 1, 1], padding='SAME') + b\n",
    "        bn = batch_norm(conv, channels_out, phase_train, name + '_bn')\n",
    "        act = tf.nn.relu(bn)\n",
    "        #act = tf.nn.relu(conv)\n",
    "#         tf.summary.histogram('weights', w)\n",
    "#         tf.summary.histogram('biases', b)\n",
    "#         tf.summary.histogram('activations', act)\n",
    "        return tf.nn.max_pool(act, ksize=[1, 2, 2, 1], strides=[1, 2, 2, 1], padding='SAME')\n",
    "    \n",
    "def fc_layer(input, channels_in, channels_out, name='fc'):\n",
    "    with tf.name_scope(name):\n",
    "        w = weight_variable([channels_in, channels_out], name='W')\n",
    "        b = bias_variable([channels_out], name='b')\n",
    "        bn = tf.matmul(input, w) + b\n",
    "#         tf.summary.histogram('weights', w)\n",
    "#         tf.summary.histogram('biases', b)\n",
    "        return tf.nn.relu(bn)"
   ]
  },
  {
   "cell_type": "code",
   "execution_count": 5,
   "metadata": {
    "collapsed": true,
    "deletable": true,
    "editable": true
   },
   "outputs": [],
   "source": [
    "def batch_norm(x, n_out, phase_train, name='bn'):\n",
    "    \"\"\"\n",
    "    Batch normalization on convolutional maps.\n",
    "    Ref.: http://stackoverflow.com/questions/33949786/how-could-i-use-batch-normalization-in-tensorflow\n",
    "    Args:\n",
    "        x:           Tensor, 4D BHWD input maps\n",
    "        n_out:       integer, depth of input maps\n",
    "        phase_train: boolean tf.Varialbe, true indicates training phase\n",
    "        scope:       string, variable scope\n",
    "    Return:\n",
    "        normed:      batch-normalized maps\n",
    "    \"\"\"\n",
    "    with tf.variable_scope(name):\n",
    "        beta = tf.Variable(tf.constant(0.0, shape=[n_out]), name='beta', trainable=True)\n",
    "        gamma = tf.Variable(tf.constant(1.0, shape=[n_out]), name='gamma', trainable=True)\n",
    "        batch_mean, batch_var = tf.nn.moments(x, [0,1,2], name='moments')\n",
    "        ema = tf.train.ExponentialMovingAverage(decay=0.6)\n",
    "\n",
    "        def mean_var_with_update():\n",
    "            ema_apply_op = ema.apply([batch_mean, batch_var])\n",
    "            with tf.control_dependencies([ema_apply_op]):\n",
    "                return tf.identity(batch_mean), tf.identity(batch_var)\n",
    "\n",
    "        mean, var = tf.cond(phase_train,\n",
    "                            mean_var_with_update,\n",
    "                            lambda: (ema.average(batch_mean), ema.average(batch_var)))\n",
    "        normed = tf.nn.batch_normalization(x, mean, var, beta, gamma, 1e-2)\n",
    "    return normed"
   ]
  },
  {
   "cell_type": "code",
   "execution_count": 6,
   "metadata": {
    "collapsed": false,
    "deletable": true,
    "editable": true
   },
   "outputs": [],
   "source": [
    "x = tf.placeholder(tf.float32, shape=[None, 64, 64, 8], name='x')\n",
    "x_image = tf.reshape(x, [-1, 64, 64, 8], name='x_reshaped')\n",
    "y_ = tf.placeholder(tf.float32, shape=[None, 2], name='labels')\n",
    "phase_train = tf.placeholder(tf.bool, name='phase_train')\n",
    "keep_prob = tf.placeholder(tf.float32, name='keep_prob_fc1')\n",
    "\n",
    "conv1 = conv_layer(x_image, 8, 32, 'conv1', 15, 15) # 15x15 patch, 8 channels, 32 output channels\n",
    "conv2 = conv_layer(conv1, 32, 64, 'conv2', 15, 15) # 15x15 patch, 32 channels, 64 output channels\n",
    "conv2_flat = tf.reshape(conv2, [-1, 16 * 16 * 64]) # flatten conv2\n",
    "\n",
    "fc1 = fc_layer(conv2_flat, 16 * 16 * 64, 1024, 'fc1') # fc_layer fc1\n",
    "fc1_drop = tf.nn.dropout(fc1, keep_prob) # dropout on fc1\n",
    "fc2 = fc_layer(fc1_drop, 1024, 512, name='fc2') # fc_layer fc2\n",
    "\n",
    "with tf.name_scope('fc3'):\n",
    "    W_fc3 = weight_variable([512, 2])\n",
    "    b_fc3 = bias_variable([2])\n",
    "    \n",
    "    tf.summary.histogram('weights', W_fc3)\n",
    "    tf.summary.histogram('biases', b_fc3)\n",
    "    \n",
    "    y_conv = tf.matmul(fc2, W_fc3) + b_fc3"
   ]
  },
  {
   "cell_type": "code",
   "execution_count": null,
   "metadata": {
    "collapsed": false,
    "deletable": true,
    "editable": true
   },
   "outputs": [
    {
     "data": {
      "text/plain": [
       "<tf.Tensor 'accuracy_1:0' shape=() dtype=string>"
      ]
     },
     "execution_count": 7,
     "metadata": {},
     "output_type": "execute_result"
    }
   ],
   "source": [
    "max_epochs = 200\n",
    "max_steps = 1000\n",
    "learning_rate = 1e-5\n",
    "step, train_acc_arr, train_loss_arr, val_acc_arr, val_loss_arr = 0, [], [], [], []\n",
    "with tf.name_scope('xent'):\n",
    "    cross_entropy = tf.reduce_mean(tf.nn.softmax_cross_entropy_with_logits(labels=y_, logits=y_conv))\n",
    "    cross_entropy_count = tf.reduce_sum(tf.nn.softmax_cross_entropy_with_logits(labels=y_, logits=y_conv))\n",
    "\n",
    "with tf.name_scope('train'):\n",
    "    train_step = tf.train.AdamOptimizer(learning_rate).minimize(cross_entropy)\n",
    "\n",
    "with tf.name_scope('accuracy'):\n",
    "    correct_prediction = tf.equal(tf.argmax(y_conv, 1), tf.argmax(y_, 1))\n",
    "    accuracy = tf.reduce_mean(tf.cast(correct_prediction, tf.float32))\n",
    "    accuracy_count = tf.reduce_sum(tf.cast(correct_prediction, tf.float32))\n",
    "\n",
    "tf.summary.scalar('cross_entropy', cross_entropy)\n",
    "tf.summary.scalar('accuracy', accuracy)\n",
    "# tf.summary.image('input', x_image, 3)"
   ]
  },
  {
   "cell_type": "code",
   "execution_count": null,
   "metadata": {
    "collapsed": false,
    "deletable": true,
    "editable": true
   },
   "outputs": [
    {
     "name": "stdout",
     "output_type": "stream",
     "text": [
      "step 100, train accuracy 0.4994, train loss 4.40857, val accuracy 0.68, val loss 3.57852\n",
      "step 200, train accuracy 0.5058, train loss 5.21697, val accuracy 0.6, val loss 3.55853\n",
      "step 300, train accuracy 0.5265, train loss 3.77261, val accuracy 0.56, val loss 3.66727\n",
      "step 400, train accuracy 0.5213, train loss 5.28156, val accuracy 0.68, val loss 4.26625\n",
      "step 500, train accuracy 0.5523, train loss 2.93206, val accuracy 0.56, val loss 4.02645\n",
      "step 600, train accuracy 0.5548, train loss 3.13437, val accuracy 0.4, val loss 4.50203\n",
      "step 700, train accuracy 0.5458, train loss 3.42871, val accuracy 0.52, val loss 3.72256\n",
      "step 800, train accuracy 0.5535, train loss 2.46558, val accuracy 0.56, val loss 3.33611\n",
      "step 900, train accuracy 0.5587, train loss 2.36939, val accuracy 0.44, val loss 3.2901\n",
      "step 1000, train accuracy 0.5652, train loss 4.00541, val accuracy 0.4, val loss 5.46835\n",
      "step 1100, train accuracy 0.5794, train loss 2.58597, val accuracy 0.48, val loss 2.65572\n",
      "step 1200, train accuracy 0.6065, train loss 2.63458, val accuracy 0.48, val loss 3.3821\n",
      "step 1300, train accuracy 0.5432, train loss 3.25176, val accuracy 0.6, val loss 3.258\n",
      "step 1400, train accuracy 0.6013, train loss 1.84855, val accuracy 0.44, val loss 2.19635\n",
      "step 1500, train accuracy 0.5832, train loss 1.69912, val accuracy 0.52, val loss 2.3848\n",
      "step 1600, train accuracy 0.6077, train loss 1.59677, val accuracy 0.56, val loss 1.99214\n",
      "step 1700, train accuracy 0.5987, train loss 2.35080, val accuracy 0.52, val loss 3.44303\n",
      "step 1800, train accuracy 0.5910, train loss 2.58888, val accuracy 0.44, val loss 4.28637\n",
      "step 1900, train accuracy 0.6219, train loss 2.05467, val accuracy 0.44, val loss 3.30306\n",
      "step 2000, train accuracy 0.6013, train loss 2.02660, val accuracy 0.48, val loss 3.20072\n",
      "step 2100, train accuracy 0.6194, train loss 1.76917, val accuracy 0.4, val loss 3.17961\n",
      "step 2200, train accuracy 0.6116, train loss 1.70105, val accuracy 0.36, val loss 2.59534\n",
      "step 2300, train accuracy 0.6632, train loss 1.22715, val accuracy 0.64, val loss 1.55413\n",
      "step 2400, train accuracy 0.5961, train loss 1.75938, val accuracy 0.48, val loss 2.68855\n",
      "step 2500, train accuracy 0.6284, train loss 1.71386, val accuracy 0.52, val loss 2.69901\n",
      "step 2600, train accuracy 0.5729, train loss 2.88497, val accuracy 0.36, val loss 4.7029\n",
      "step 2700, train accuracy 0.6219, train loss 1.91437, val accuracy 0.44, val loss 3.16782\n",
      "step 2800, train accuracy 0.6632, train loss 1.25014, val accuracy 0.4, val loss 2.33871\n",
      "step 2900, train accuracy 0.6748, train loss 0.89378, val accuracy 0.52, val loss 1.34254\n",
      "step 3000, train accuracy 0.6026, train loss 1.77956, val accuracy 0.44, val loss 2.89149\n",
      "step 3100, train accuracy 0.6310, train loss 1.54291, val accuracy 0.44, val loss 2.85587\n",
      "step 3200, train accuracy 0.6271, train loss 1.54723, val accuracy 0.52, val loss 3.05284\n",
      "step 3300, train accuracy 0.6374, train loss 1.16343, val accuracy 0.48, val loss 1.83777\n",
      "step 3400, train accuracy 0.7006, train loss 0.91196, val accuracy 0.64, val loss 1.17756\n",
      "step 3500, train accuracy 0.7252, train loss 0.79125, val accuracy 0.52, val loss 1.48657\n",
      "step 3600, train accuracy 0.6839, train loss 0.86110, val accuracy 0.6, val loss 1.23485\n",
      "step 3700, train accuracy 0.6465, train loss 1.35046, val accuracy 0.48, val loss 2.14858\n",
      "step 3800, train accuracy 0.6890, train loss 1.01042, val accuracy 0.52, val loss 1.60797\n",
      "step 3900, train accuracy 0.7123, train loss 0.84137, val accuracy 0.56, val loss 1.46887\n",
      "step 4000, train accuracy 0.6955, train loss 0.95843, val accuracy 0.6, val loss 2.11623\n",
      "step 4100, train accuracy 0.6826, train loss 0.93627, val accuracy 0.56, val loss 1.56537\n",
      "step 4200, train accuracy 0.6929, train loss 0.85980, val accuracy 0.36, val loss 2.54574\n",
      "step 4300, train accuracy 0.6465, train loss 1.31096, val accuracy 0.44, val loss 2.95462\n",
      "step 4400, train accuracy 0.6839, train loss 1.05351, val accuracy 0.36, val loss 2.30139\n",
      "step 4500, train accuracy 0.6942, train loss 0.96472, val accuracy 0.4, val loss 2.30147\n",
      "step 4600, train accuracy 0.6942, train loss 0.88231, val accuracy 0.44, val loss 2.13856\n",
      "step 4700, train accuracy 0.7806, train loss 0.49705, val accuracy 0.48, val loss 1.49762\n",
      "step 4800, train accuracy 0.7406, train loss 0.69291, val accuracy 0.36, val loss 1.90489\n",
      "step 4900, train accuracy 0.6761, train loss 0.90183, val accuracy 0.4, val loss 2.7508\n",
      "step 5000, train accuracy 0.6916, train loss 0.79992, val accuracy 0.4, val loss 2.44705\n",
      "step 5100, train accuracy 0.6903, train loss 0.76449, val accuracy 0.48, val loss 1.68477\n",
      "step 5200, train accuracy 0.7006, train loss 0.93577, val accuracy 0.28, val loss 2.40168\n",
      "step 5300, train accuracy 0.7097, train loss 0.92233, val accuracy 0.4, val loss 1.89923\n",
      "step 5400, train accuracy 0.6981, train loss 0.82095, val accuracy 0.44, val loss 1.72728\n",
      "step 5500, train accuracy 0.7445, train loss 0.59047, val accuracy 0.44, val loss 1.40679\n",
      "step 5600, train accuracy 0.7794, train loss 0.48960, val accuracy 0.48, val loss 1.29917\n",
      "step 5700, train accuracy 0.7781, train loss 0.49287, val accuracy 0.52, val loss 1.44352\n",
      "step 5800, train accuracy 0.7058, train loss 0.71420, val accuracy 0.56, val loss 1.24764\n",
      "step 5900, train accuracy 0.7123, train loss 0.68018, val accuracy 0.56, val loss 1.49313\n",
      "step 6000, train accuracy 0.7561, train loss 0.55576, val accuracy 0.44, val loss 1.273\n",
      "step 6100, train accuracy 0.7858, train loss 0.49737, val accuracy 0.48, val loss 1.53065\n",
      "step 6200, train accuracy 0.7574, train loss 0.58290, val accuracy 0.4, val loss 1.52976\n",
      "step 6300, train accuracy 0.7871, train loss 0.46610, val accuracy 0.44, val loss 1.27255\n",
      "step 6400, train accuracy 0.7755, train loss 0.50464, val accuracy 0.48, val loss 1.57388\n",
      "step 6500, train accuracy 0.8206, train loss 0.41423, val accuracy 0.52, val loss 1.29147\n",
      "step 6600, train accuracy 0.7845, train loss 0.46490, val accuracy 0.52, val loss 1.39869\n",
      "step 6700, train accuracy 0.7381, train loss 0.62644, val accuracy 0.52, val loss 1.75829\n",
      "step 6800, train accuracy 0.7703, train loss 0.50592, val accuracy 0.48, val loss 1.42609\n",
      "step 6900, train accuracy 0.7961, train loss 0.43689, val accuracy 0.56, val loss 1.30862\n",
      "step 7000, train accuracy 0.7277, train loss 0.56981, val accuracy 0.56, val loss 1.51323\n",
      "step 7100, train accuracy 0.7613, train loss 0.48375, val accuracy 0.64, val loss 1.31004\n",
      "step 7200, train accuracy 0.7316, train loss 0.52705, val accuracy 0.68, val loss 1.10923\n",
      "step 7300, train accuracy 0.7974, train loss 0.45880, val accuracy 0.6, val loss 0.872712\n",
      "step 7400, train accuracy 0.8026, train loss 0.43177, val accuracy 0.68, val loss 1.16733\n",
      "step 7500, train accuracy 0.8310, train loss 0.36052, val accuracy 0.56, val loss 1.14631\n",
      "step 7600, train accuracy 0.7948, train loss 0.43495, val accuracy 0.48, val loss 1.295\n",
      "step 7700, train accuracy 0.8323, train loss 0.38663, val accuracy 0.48, val loss 1.22716\n",
      "step 7800, train accuracy 0.8232, train loss 0.39383, val accuracy 0.56, val loss 0.973462\n",
      "step 7900, train accuracy 0.8168, train loss 0.39731, val accuracy 0.56, val loss 1.22437\n",
      "step 8000, train accuracy 0.7845, train loss 0.46014, val accuracy 0.52, val loss 1.42111\n",
      "step 8100, train accuracy 0.8529, train loss 0.34819, val accuracy 0.6, val loss 1.08805\n",
      "step 8200, train accuracy 0.8439, train loss 0.35258, val accuracy 0.6, val loss 0.950028\n",
      "step 8300, train accuracy 0.8490, train loss 0.33773, val accuracy 0.64, val loss 1.05983\n",
      "step 8400, train accuracy 0.7961, train loss 0.43642, val accuracy 0.64, val loss 1.29177\n",
      "step 8500, train accuracy 0.8465, train loss 0.33006, val accuracy 0.64, val loss 1.10375\n",
      "step 8600, train accuracy 0.8671, train loss 0.30396, val accuracy 0.52, val loss 1.28708\n",
      "step 8700, train accuracy 0.8323, train loss 0.35608, val accuracy 0.64, val loss 1.11719\n",
      "step 8800, train accuracy 0.8374, train loss 0.36536, val accuracy 0.6, val loss 1.27\n",
      "step 8900, train accuracy 0.8077, train loss 0.42252, val accuracy 0.48, val loss 1.35114\n",
      "step 9000, train accuracy 0.8877, train loss 0.29252, val accuracy 0.56, val loss 1.09261\n",
      "step 9100, train accuracy 0.8916, train loss 0.28851, val accuracy 0.56, val loss 1.23164\n",
      "step 9200, train accuracy 0.8735, train loss 0.30745, val accuracy 0.64, val loss 1.20014\n",
      "step 9300, train accuracy 0.8516, train loss 0.33201, val accuracy 0.68, val loss 1.16518\n",
      "step 9400, train accuracy 0.8826, train loss 0.28694, val accuracy 0.52, val loss 1.23359\n",
      "step 9500, train accuracy 0.8903, train loss 0.28542, val accuracy 0.64, val loss 0.994772\n",
      "step 9600, train accuracy 0.8632, train loss 0.30564, val accuracy 0.6, val loss 1.30173\n",
      "step 9700, train accuracy 0.8555, train loss 0.32012, val accuracy 0.48, val loss 1.34793\n",
      "step 9800, train accuracy 0.8955, train loss 0.28348, val accuracy 0.56, val loss 1.33356\n",
      "step 9900, train accuracy 0.9084, train loss 0.26781, val accuracy 0.6, val loss 1.25644\n",
      "step 10000, train accuracy 0.8490, train loss 0.32033, val accuracy 0.56, val loss 1.3593\n",
      "step 10100, train accuracy 0.8903, train loss 0.29353, val accuracy 0.6, val loss 1.18494\n",
      "step 10200, train accuracy 0.8374, train loss 0.34353, val accuracy 0.64, val loss 1.08399\n",
      "step 10300, train accuracy 0.8503, train loss 0.32794, val accuracy 0.64, val loss 0.990846\n",
      "step 10400, train accuracy 0.8929, train loss 0.28595, val accuracy 0.36, val loss 1.22726\n",
      "step 10500, train accuracy 0.8542, train loss 0.31935, val accuracy 0.6, val loss 1.03183\n",
      "step 10600, train accuracy 0.8774, train loss 0.30006, val accuracy 0.52, val loss 1.15635\n",
      "step 10700, train accuracy 0.8955, train loss 0.26489, val accuracy 0.6, val loss 1.11425\n",
      "step 10800, train accuracy 0.9006, train loss 0.27144, val accuracy 0.52, val loss 1.09724\n",
      "step 10900, train accuracy 0.8568, train loss 0.32056, val accuracy 0.68, val loss 1.07141\n",
      "step 11000, train accuracy 0.9148, train loss 0.25151, val accuracy 0.44, val loss 1.20787\n",
      "step 11100, train accuracy 0.8155, train loss 0.38452, val accuracy 0.6, val loss 1.1945\n",
      "step 11200, train accuracy 0.8606, train loss 0.29263, val accuracy 0.56, val loss 1.01321\n",
      "step 11300, train accuracy 0.9006, train loss 0.25655, val accuracy 0.4, val loss 1.15612\n",
      "step 11400, train accuracy 0.9277, train loss 0.23909, val accuracy 0.32, val loss 1.2814\n",
      "step 11500, train accuracy 0.9148, train loss 0.25044, val accuracy 0.6, val loss 1.00746\n",
      "step 11600, train accuracy 0.9084, train loss 0.25308, val accuracy 0.6, val loss 0.935832\n",
      "step 11700, train accuracy 0.9213, train loss 0.23937, val accuracy 0.68, val loss 0.894772\n",
      "step 11800, train accuracy 0.8516, train loss 0.33568, val accuracy 0.6, val loss 1.20673\n",
      "step 11900, train accuracy 0.8671, train loss 0.29596, val accuracy 0.6, val loss 1.02251\n",
      "step 12000, train accuracy 0.9329, train loss 0.22761, val accuracy 0.56, val loss 1.04399\n",
      "step 12100, train accuracy 0.8439, train loss 0.33419, val accuracy 0.6, val loss 1.17037\n",
      "step 12200, train accuracy 0.9406, train loss 0.21360, val accuracy 0.44, val loss 1.06501\n",
      "step 12300, train accuracy 0.9226, train loss 0.23527, val accuracy 0.68, val loss 0.940577\n",
      "step 12400, train accuracy 0.9252, train loss 0.22448, val accuracy 0.56, val loss 1.0963\n",
      "step 12500, train accuracy 0.8839, train loss 0.28916, val accuracy 0.6, val loss 1.14404\n",
      "step 12600, train accuracy 0.9097, train loss 0.24777, val accuracy 0.72, val loss 0.883853\n",
      "step 12700, train accuracy 0.9200, train loss 0.23381, val accuracy 0.44, val loss 1.28456\n",
      "step 12800, train accuracy 0.9239, train loss 0.21598, val accuracy 0.44, val loss 1.1289\n",
      "step 12900, train accuracy 0.9445, train loss 0.19396, val accuracy 0.64, val loss 1.04222\n",
      "step 13000, train accuracy 0.9406, train loss 0.22137, val accuracy 0.6, val loss 1.21915\n",
      "step 13100, train accuracy 0.9510, train loss 0.19205, val accuracy 0.48, val loss 1.03554\n",
      "step 13200, train accuracy 0.9032, train loss 0.24477, val accuracy 0.48, val loss 1.10794\n",
      "step 13300, train accuracy 0.8877, train loss 0.26287, val accuracy 0.64, val loss 0.883396\n",
      "step 13400, train accuracy 0.9342, train loss 0.22101, val accuracy 0.44, val loss 1.04234\n",
      "step 13500, train accuracy 0.9019, train loss 0.23184, val accuracy 0.56, val loss 1.09342\n",
      "step 13600, train accuracy 0.9355, train loss 0.23631, val accuracy 0.4, val loss 1.36552\n",
      "step 13700, train accuracy 0.8968, train loss 0.24806, val accuracy 0.56, val loss 1.15606\n",
      "step 13800, train accuracy 0.9445, train loss 0.19677, val accuracy 0.52, val loss 1.18899\n",
      "step 13900, train accuracy 0.9355, train loss 0.20348, val accuracy 0.56, val loss 1.05251\n",
      "step 14000, train accuracy 0.9677, train loss 0.17817, val accuracy 0.64, val loss 0.944331\n",
      "step 14100, train accuracy 0.9574, train loss 0.17877, val accuracy 0.52, val loss 1.13396\n",
      "step 14200, train accuracy 0.9510, train loss 0.18676, val accuracy 0.52, val loss 1.22534\n",
      "step 14300, train accuracy 0.9471, train loss 0.19246, val accuracy 0.6, val loss 1.24917\n",
      "step 14400, train accuracy 0.9329, train loss 0.18845, val accuracy 0.52, val loss 1.18377\n",
      "step 14500, train accuracy 0.8787, train loss 0.26223, val accuracy 0.48, val loss 1.30602\n",
      "step 14600, train accuracy 0.9484, train loss 0.16780, val accuracy 0.48, val loss 1.32137\n",
      "step 14700, train accuracy 0.9690, train loss 0.14027, val accuracy 0.4, val loss 1.18095\n",
      "step 14800, train accuracy 0.9665, train loss 0.14991, val accuracy 0.56, val loss 1.15253\n",
      "step 14900, train accuracy 0.9342, train loss 0.19943, val accuracy 0.64, val loss 1.19907\n",
      "step 15000, train accuracy 0.9703, train loss 0.13694, val accuracy 0.4, val loss 1.31363\n",
      "step 15100, train accuracy 0.9316, train loss 0.19236, val accuracy 0.48, val loss 1.25396\n",
      "step 15200, train accuracy 0.9703, train loss 0.16365, val accuracy 0.32, val loss 1.16966\n",
      "step 15300, train accuracy 0.9419, train loss 0.18787, val accuracy 0.48, val loss 1.18619\n",
      "step 15400, train accuracy 0.9510, train loss 0.17792, val accuracy 0.6, val loss 0.993715\n",
      "step 15500, train accuracy 0.9587, train loss 0.16328, val accuracy 0.44, val loss 1.2078\n",
      "step 15600, train accuracy 0.9523, train loss 0.18026, val accuracy 0.56, val loss 1.14134\n",
      "step 15700, train accuracy 0.9639, train loss 0.17019, val accuracy 0.6, val loss 1.21224\n",
      "step 15800, train accuracy 0.9574, train loss 0.15123, val accuracy 0.4, val loss 1.34301\n",
      "step 15900, train accuracy 0.9484, train loss 0.16972, val accuracy 0.56, val loss 1.10146\n",
      "step 16000, train accuracy 0.9226, train loss 0.19242, val accuracy 0.56, val loss 1.15727\n",
      "step 16100, train accuracy 0.9497, train loss 0.16755, val accuracy 0.44, val loss 1.14994\n",
      "step 16200, train accuracy 0.9639, train loss 0.14823, val accuracy 0.4, val loss 1.27837\n",
      "step 16300, train accuracy 0.9781, train loss 0.12336, val accuracy 0.4, val loss 1.29108\n",
      "step 16400, train accuracy 0.9665, train loss 0.16373, val accuracy 0.48, val loss 1.43008\n",
      "step 16500, train accuracy 0.9677, train loss 0.13601, val accuracy 0.4, val loss 1.34804\n",
      "step 16600, train accuracy 0.9574, train loss 0.14482, val accuracy 0.52, val loss 1.12525\n",
      "step 16700, train accuracy 0.9471, train loss 0.14650, val accuracy 0.52, val loss 1.35524\n",
      "step 16800, train accuracy 0.9600, train loss 0.14127, val accuracy 0.52, val loss 1.32689\n",
      "step 16900, train accuracy 0.9058, train loss 0.20148, val accuracy 0.48, val loss 1.31155\n",
      "step 17000, train accuracy 0.9355, train loss 0.18327, val accuracy 0.52, val loss 1.44139\n"
     ]
    }
   ],
   "source": [
    "sess = tf.InteractiveSession()\n",
    "merged_summary = tf.summary.merge_all()\n",
    "writer = tf.summary.FileWriter('/tmp/brain/4')\n",
    "writer.add_graph(sess.graph)\n",
    "\n",
    "sess.run(tf.global_variables_initializer())\n",
    "\n",
    "for i in range(max_epochs):\n",
    "    for batch_xs, batch_ys in next_batch(train_img, train_lbl, 5):\n",
    "        feed_dict={x: batch_xs, y_: batch_ys, keep_prob: 0.5, phase_train: True}\n",
    "        if step % 5 == 0:\n",
    "            s = sess.run(merged_summary, feed_dict=feed_dict)\n",
    "            writer.add_summary(s, step)\n",
    "\n",
    "        train_step.run(feed_dict=feed_dict)\n",
    "        step += 1\n",
    "\n",
    "        if step % 100 == 0:\n",
    "            train_loss, train_accuracy = loss_accuracy(cross_entropy_count, accuracy_count, x, y_, keep_prob, phase_train, train_img, train_lbl, 100)\n",
    "            val_loss, val_accuracy = loss_accuracy(cross_entropy_count, accuracy_count, x, y_, keep_prob, phase_train, val_img, val_lbl, 100)\n",
    "            \n",
    "            train_acc_arr.append(train_accuracy), train_loss_arr.append(train_loss)\n",
    "            val_acc_arr.append(val_accuracy), val_loss_arr.append(val_loss)\n",
    "\n",
    "            print \"step %d, train accuracy %.4f, train loss %.5f, val accuracy %g, val loss %g\" % (\n",
    "                step, train_accuracy, train_loss, val_accuracy, val_loss)"
   ]
  },
  {
   "cell_type": "code",
   "execution_count": null,
   "metadata": {
    "collapsed": false,
    "deletable": true,
    "editable": true
   },
   "outputs": [],
   "source": [
    "test_loss, test_accuracy = loss_accuracy(cross_entropy_count, accuracy_count, x, y_, keep_prob, phase_train,\n",
    "                                         val_img, val_lbl, 100)\n",
    "print 'Val Accuracy: %g, Val Loss: %g' % (test_accuracy * 100, test_loss)"
   ]
  },
  {
   "cell_type": "code",
   "execution_count": null,
   "metadata": {
    "collapsed": false,
    "deletable": true,
    "editable": true
   },
   "outputs": [],
   "source": [
    "from tensorflow.python.client import device_lib\n",
    "def get_available_devices():\n",
    "    local_device_protos = device_lib.list_local_devices()\n",
    "    return [x.name for x in local_device_protos]\n",
    "get_available_devices()"
   ]
  },
  {
   "cell_type": "code",
   "execution_count": null,
   "metadata": {
    "collapsed": false,
    "deletable": true,
    "editable": true
   },
   "outputs": [],
   "source": [
    "val_img.shape"
   ]
  },
  {
   "cell_type": "code",
   "execution_count": null,
   "metadata": {
    "collapsed": false,
    "deletable": true,
    "editable": true
   },
   "outputs": [],
   "source": [
    "val_img[1,:,:,1].shape"
   ]
  },
  {
   "cell_type": "code",
   "execution_count": null,
   "metadata": {
    "collapsed": true,
    "deletable": true,
    "editable": true
   },
   "outputs": [],
   "source": [
    "%matplotlib inline\n",
    "import matplotlib.pyplot as plt"
   ]
  },
  {
   "cell_type": "code",
   "execution_count": null,
   "metadata": {
    "collapsed": false,
    "deletable": true,
    "editable": true
   },
   "outputs": [],
   "source": [
    "for i in range(8):\n",
    "    plt.show(plt.imshow(val_img[1,:,:,i]))"
   ]
  },
  {
   "cell_type": "code",
   "execution_count": null,
   "metadata": {
    "collapsed": false,
    "deletable": true,
    "editable": true
   },
   "outputs": [],
   "source": [
    "plt.show(plt.imshow(np.concatenate(val_img[1], axis=1)))"
   ]
  },
  {
   "cell_type": "code",
   "execution_count": null,
   "metadata": {
    "collapsed": false,
    "deletable": true,
    "editable": true
   },
   "outputs": [],
   "source": [
    "plt.show(plt.imshow(np.concatenate((val_img[1,:,:,0], val_img[1,:,:,1], val_img[1,:,:,2], val_img[1,:,:,3], val_img[1,:,:,4], val_img[1,:,:,5], val_img[1,:,:,6], val_img[1,:,:,7]), axis=1)))"
   ]
  },
  {
   "cell_type": "code",
   "execution_count": null,
   "metadata": {
    "collapsed": false,
    "deletable": true,
    "editable": true
   },
   "outputs": [],
   "source": [
    "plt.show(plt.imshow(np.concatenate(val_img[1,:,:,[0,1,2,3,4,5,6,7]], axis=1)))"
   ]
  },
  {
   "cell_type": "code",
   "execution_count": null,
   "metadata": {
    "collapsed": false,
    "deletable": true,
    "editable": true
   },
   "outputs": [],
   "source": [
    "val_img[1].T.T.T.shape"
   ]
  },
  {
   "cell_type": "code",
   "execution_count": null,
   "metadata": {
    "collapsed": true,
    "deletable": true,
    "editable": true
   },
   "outputs": [],
   "source": []
  }
 ],
 "metadata": {
  "kernelspec": {
   "display_name": "Python 2",
   "language": "python",
   "name": "python2"
  },
  "language_info": {
   "codemirror_mode": {
    "name": "ipython",
    "version": 2
   },
   "file_extension": ".py",
   "mimetype": "text/x-python",
   "name": "python",
   "nbconvert_exporter": "python",
   "pygments_lexer": "ipython2",
   "version": "2.7.12"
  }
 },
 "nbformat": 4,
 "nbformat_minor": 2
}
